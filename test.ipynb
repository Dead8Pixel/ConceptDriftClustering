{
 "cells": [
  {
   "cell_type": "code",
   "execution_count": null,
   "metadata": {},
   "outputs": [],
   "source": [
    "from river.datasets import synth\n",
    "from clustream import CluStream\n",
    "from river import drift\n",
    "import math\n",
    "import numpy as np\n",
    "import matplotlib.pyplot as plt\n",
    "from river.utils import dict2numpy\n",
    "from scipy.spatial import distance_matrix\n",
    "from time import time\n",
    "from river import stream\n",
    "import pandas as pd\n",
    "from scipy.spatial import distance_matrix\n",
    "\n",
    "from sklearn.cluster import KMeans\n",
    "from sklearn.metrics import silhouette_score\n",
    "\n",
    "from sklearn.decomposition import PCA\n",
    "import itertools\n",
    "\n",
    "\n"
   ]
  },
  {
   "cell_type": "code",
   "execution_count": null,
   "metadata": {},
   "outputs": [],
   "source": [
    "ds = pd.read_csv('./datasets/rbf speed 20L/rbf_speed_20L.csv')\n",
    "#ds = pd.read_csv('./datasets/rbf create delete 2/rbf_create_delete_2.csv')\n",
    "df = ds.copy()\n",
    "y = df.pop('.class')\n",
    "df.head()"
   ]
  },
  {
   "cell_type": "code",
   "execution_count": null,
   "metadata": {},
   "outputs": [],
   "source": [
    "model = CluStream(n_macro_clusters=3,max_micro_clusters=12,micro_cluster_r_factor=0.005,time_window=10)"
   ]
  },
  {
   "cell_type": "code",
   "execution_count": null,
   "metadata": {},
   "outputs": [],
   "source": [
    "fig ,ax = plt.subplots(2,3,figsize=(10,6),sharex=True, sharey= True)\n",
    "it = itertools.product((0,1,2),(0,1,2))\n",
    "colors = {1 : 'blue', 2 : 'red', 3 : 'green' }\n",
    "i = 0\n",
    "go = True\n",
    "dist = []\n",
    "for x,y in stream.iter_pandas(df,y):\n",
    "    model = model.learn_one(x)\n",
    "    i +=1\n",
    "    if model._initialized:\n",
    "        pass\n",
    "\n",
    "    if i % 500 == 0 :\n",
    "        \n",
    "        k,m = next(it)\n",
    "        centroids = model.get_micro_clusters()\n",
    "        grouped = ds[i:i+250].groupby('.class')\n",
    "        for key,group in grouped :\n",
    "            group.plot(ax=ax[k,m],x='X1',y='X2',kind=\"scatter\",label = key,color=colors[key],title=f'from {i} to {i + 250}')\n",
    "        ax[k,m].scatter(centroids[:,0],centroids[:,1],marker=\"x\",c='black')\n",
    "    \n",
    "    if i ==3000 :\n",
    "        break\n",
    "    \n",
    "    \n",
    "        \n",
    "\n",
    "   \n",
    "fig.savefig('window_150_30mc')"
   ]
  }
 ],
 "metadata": {
  "kernelspec": {
   "display_name": "pfe_env",
   "language": "python",
   "name": "python3"
  },
  "language_info": {
   "codemirror_mode": {
    "name": "ipython",
    "version": 3
   },
   "file_extension": ".py",
   "mimetype": "text/x-python",
   "name": "python",
   "nbconvert_exporter": "python",
   "pygments_lexer": "ipython3",
   "version": "3.10.9"
  },
  "orig_nbformat": 4
 },
 "nbformat": 4,
 "nbformat_minor": 2
}

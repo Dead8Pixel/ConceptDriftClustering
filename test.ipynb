{
 "cells": [
  {
   "cell_type": "code",
   "execution_count": 1,
   "metadata": {},
   "outputs": [],
   "source": [
    "%matplotlib agg\n",
    "from river.datasets import synth\n",
    "from clustream import CluStream\n",
    "from river import drift\n",
    "import math\n",
    "import numpy as np\n",
    "import matplotlib.pyplot as plt\n",
    "from river.utils import dict2numpy\n",
    "from scipy.spatial import distance_matrix\n",
    "from time import time\n",
    "from river import stream\n",
    "import pandas as pd\n",
    "\n",
    "from sklearn.cluster import KMeans\n",
    "from sklearn.metrics import silhouette_score\n"
   ]
  },
  {
   "cell_type": "code",
   "execution_count": 2,
   "metadata": {},
   "outputs": [],
   "source": [
    "ds = pd.read_csv('random.csv')\n",
    "ds.dropna(axis=0,inplace=True)\n",
    "y = ds.pop('.class')\n",
    "\n",
    "learner = CluStream(n_macro_clusters=3,max_micro_clusters=52,time_window=500,time_gap=10,micro_cluster_r_factor=0.01)\n",
    "\n"
   ]
  },
  {
   "cell_type": "code",
   "execution_count": 3,
   "metadata": {},
   "outputs": [
    {
     "ename": "NameError",
     "evalue": "name 'leaner' is not defined",
     "output_type": "error",
     "traceback": [
      "\u001b[1;31m---------------------------------------------------------------------------\u001b[0m",
      "\u001b[1;31mNameError\u001b[0m                                 Traceback (most recent call last)",
      "Cell \u001b[1;32mIn[3], line 29\u001b[0m\n\u001b[0;32m     26\u001b[0m k,m \u001b[39m=\u001b[39m tup[l]\n\u001b[0;32m     27\u001b[0m centers \u001b[39m=\u001b[39m learner\u001b[39m.\u001b[39mget_micro_clusters()\n\u001b[1;32m---> 29\u001b[0m leaner\u001b[39m.\u001b[39moffline_cluster()\n\u001b[0;32m     30\u001b[0m centroids \u001b[39m=\u001b[39m learner\u001b[39m.\u001b[39mcenters\n\u001b[0;32m     32\u001b[0m data \u001b[39m=\u001b[39m np\u001b[39m.\u001b[39mconcatenate([lst1,lst2,lst3],axis\u001b[39m=\u001b[39m \u001b[39m0\u001b[39m)\n",
      "\u001b[1;31mNameError\u001b[0m: name 'leaner' is not defined"
     ]
    }
   ],
   "source": [
    "fig, ax = plt.subplots(nrows=2,ncols=2,figsize = (10,10))\n",
    "lst1 = []\n",
    "lst2 = []\n",
    "lst3 = []\n",
    "i = 1\n",
    "k,m = 0,0\n",
    "#tup = [(0,0),(0,1),(0,2),(1,0),(1,1),(1,2),(2,0),(2,1),(2,2)]\n",
    "tup = [(0,0),(0,1),(1,0),(1,1)]\n",
    "l = 0\n",
    "for x,y in stream.iter_pandas(ds,y):\n",
    "    \n",
    "    learner = learner.learn_one(x)\n",
    "    pred  = learner.predict_one(x)\n",
    "    \n",
    "    if y == 1.0 :\n",
    "        lst1.append([x['X1'],x['X2']])\n",
    "    elif y == 2.0 :\n",
    "        lst2.append([x['X1'],x['X2']])\n",
    "    else :\n",
    "        lst3.append([x['X1'],x['X2']])\n",
    "\n",
    "    if i > 2000 :\n",
    "        break\n",
    "   \n",
    "    if i % 500 == 0 and i <= 2000 :\n",
    "        k,m = tup[l]\n",
    "        centers = learner.get_micro_clusters()\n",
    "\n",
    "        learner.offline_cluster()\n",
    "        centroids = learner.centers\n",
    "\n",
    "        data = np.concatenate([lst1,lst2,lst3],axis= 0)\n",
    "\n",
    "           \n",
    "    \n",
    "\n",
    "        lst1 = np.array(lst1)\n",
    "        lst2 = np.array(lst2) \n",
    "        lst3 = np.array(lst3) \n",
    "        ax[k,m].scatter(lst1[:,0],lst1[:,1])\n",
    "        ax[k,m].scatter(lst2[:,0],lst2[:,1])\n",
    "        ax[k,m].scatter(lst3[:,0],lst3[:,1])\n",
    "        ax[k,m].scatter(centers[:,0],centers[:,1])\n",
    "        ax[k,m].scatter(centroids[:,0],centroids[:,1],marker=\"x\",c= 'black')\n",
    "\n",
    "\n",
    "      \n",
    "        ax[k,m].set_title(f'T = {i}')\n",
    "        l += 1\n",
    "        lst1 = []\n",
    "        lst2 = []\n",
    "        lst3 = []\n",
    "            \n",
    "\n",
    "\n",
    "    i += 1 \n",
    "\n",
    "\n",
    "fig.savefig('concept_drift.jpg')"
   ]
  },
  {
   "cell_type": "code",
   "execution_count": null,
   "metadata": {},
   "outputs": [],
   "source": []
  }
 ],
 "metadata": {
  "kernelspec": {
   "display_name": "pfe_env",
   "language": "python",
   "name": "python3"
  },
  "language_info": {
   "codemirror_mode": {
    "name": "ipython",
    "version": 3
   },
   "file_extension": ".py",
   "mimetype": "text/x-python",
   "name": "python",
   "nbconvert_exporter": "python",
   "pygments_lexer": "ipython3",
   "version": "3.10.9"
  },
  "orig_nbformat": 4
 },
 "nbformat": 4,
 "nbformat_minor": 2
}

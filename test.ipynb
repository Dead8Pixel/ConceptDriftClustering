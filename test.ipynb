{
 "cells": [
  {
   "cell_type": "code",
   "execution_count": null,
   "metadata": {
    "ExecuteTime": {
     "end_time": "2023-05-27T16:11:59.996313700Z",
     "start_time": "2023-05-27T16:11:57.543272900Z"
    }
   },
   "outputs": [],
   "source": [
    "from river.datasets import synth\n",
    "from clustream import CluStream\n",
    "from river import drift\n",
    "import math\n",
    "import numpy as np\n",
    "import matplotlib.pyplot as plt\n",
    "from river.utils import dict2numpy\n",
    "from scipy.spatial import distance_matrix\n",
    "from time import time\n",
    "from river import stream\n",
    "import pandas as pd\n",
    "from scipy.spatial import distance_matrix\n",
    "\n",
    "from sklearn.cluster import KMeans\n",
    "from sklearn.metrics import silhouette_score\n",
    "\n",
    "from sklearn.decomposition import PCA\n",
    "import itertools\n",
    "\n",
    "\n"
   ]
  },
  {
   "cell_type": "code",
   "execution_count": null,
   "metadata": {},
   "outputs": [],
   "source": [
    "win = 500\n",
    "mc = 30\n",
    "speed = 100"
   ]
  },
  {
   "cell_type": "code",
   "execution_count": null,
   "metadata": {
    "ExecuteTime": {
     "end_time": "2023-05-27T16:12:00.034180200Z",
     "start_time": "2023-05-27T16:12:00.006145100Z"
    }
   },
   "outputs": [],
   "source": [
    "ds = pd.read_csv('./datasets/rbf speed 100l/rbf_speed_100L.csv')\n",
    "#ds = pd.read_csv('./datasets/rbf create delete 2/rbf_create_delete_2.csv')\n",
    "df = ds.copy()\n",
    "y = df.pop('.class')\n",
    "df.head()"
   ]
  },
  {
   "cell_type": "code",
   "execution_count": null,
   "metadata": {
    "ExecuteTime": {
     "end_time": "2023-05-27T16:12:00.073034700Z",
     "start_time": "2023-05-27T16:12:00.035696700Z"
    }
   },
   "outputs": [],
   "source": [
    "model = CluStream(n_macro_clusters=3,max_micro_clusters=mc,micro_cluster_r_factor=0.01,time_window=500,time_gap=500)\n",
    "test = drift.PageHinkley(min_instances=10,delta=0.04899,threshold=0.15,alpha=1,mode='up')"
   ]
  },
  {
   "cell_type": "code",
   "execution_count": null,
   "metadata": {
    "ExecuteTime": {
     "end_time": "2023-05-27T16:12:07.096826800Z",
     "start_time": "2023-05-27T16:12:03.662969400Z"
    }
   },
   "outputs": [],
   "source": [
    "fig ,ax = plt.subplots(2,3,figsize=(10,6),sharex=True, sharey= True)\n",
    "it = itertools.product((0,1,2),(0,1,2))\n",
    "colors = {1 : 'blue', 2 : 'red', 3 : 'green', 4 : 'purple' , 5 : 'cyan', 6 : 'orange' , 7 : 'yellow', 8 : 'black' }\n",
    "i = 0\n",
    "j = 0\n",
    "go = True\n",
    "dist = []\n",
    "mean_dist = []\n",
    "drift_inst = []\n",
    "for x,y in stream.iter_pandas(df,y):\n",
    "    model = model.learn_one(x)\n",
    "    i +=1\n",
    "\n",
    "    if model._initialized :\n",
    "        if go :\n",
    "            model.offline_cluster()\n",
    "            go = False\n",
    "        test = test.update(model.dist_center(x))\n",
    "        if test.drift_detected :\n",
    "             print(f'Drift detected at instance: {i} ')\n",
    "             drift_inst.append([i,mean_dist[-1]])\n",
    "        dist.append(model.dist_center(x))\n",
    "        if j % 100 == 0:\n",
    "            print(np.mean(dist))\n",
    "            mean_dist.append(np.mean(dist))\n",
    "            dist = []\n",
    "        j += 1\n",
    "\n",
    "    if i % 500 == 0 :\n",
    "\n",
    "        k,m = next(it)\n",
    "        centroids = model.get_micro_clusters()\n",
    "        grouped = ds[i:i+250].groupby('.class')\n",
    "        for key,group in grouped :\n",
    "            group.plot(ax=ax[k,m],x='X1',y='X2',kind=\"scatter\",label = key,color=colors[key],title=f'De :  {i} à : {i + 250}')\n",
    "        ax[k,m].scatter(centroids[:,0],centroids[:,1],marker=\"x\",c='black')\n",
    "        # ax[k,m].scatter(model.centers[:,0],model.centers[:,1],marker='o',c='white')\n",
    "    \n",
    "    if i ==3000 :\n",
    "        break\n",
    "    \n",
    "    \n",
    "        \n",
    "fig.suptitle(f'RBF Vitesse {speed} , Fênetre {win}, MC : {mc}', fontsize=12)\n",
    "fig.savefig(f'window_{win}_{mc}mc')"
   ]
  },
  {
   "cell_type": "code",
   "execution_count": null,
   "metadata": {},
   "outputs": [],
   "source": [
    "drift_inst = np.array(drift_inst)"
   ]
  },
  {
   "cell_type": "code",
   "execution_count": null,
   "metadata": {},
   "outputs": [],
   "source": [
    "fig1 = plt.figure('Fig 2')\n",
    "plt.plot(np.arange(100,3100,100),mean_dist)\n",
    "plt.scatter(drift_inst[:,0],drift_inst[:,1],c='red',label='Points de drift')\n",
    "plt.xlabel('Instance')\n",
    "plt.ylabel('Distance min du centroid')\n",
    "plt.title('Variation de la distance moyenne au centroids ')\n",
    "plt.legend()\n",
    "\n",
    "fig1.suptitle(f'RBF Vitesse {speed} , Fênetre {win}, MC : {mc}', fontsize=12)\n",
    "fig1.savefig(f'drift_{win}_{mc}mc')"
   ]
  }
 ],
 "metadata": {
  "kernelspec": {
   "display_name": "pfe_env",
   "language": "python",
   "name": "python3"
  },
  "language_info": {
   "codemirror_mode": {
    "name": "ipython",
    "version": 3
   },
   "file_extension": ".py",
   "mimetype": "text/x-python",
   "name": "python",
   "nbconvert_exporter": "python",
   "pygments_lexer": "ipython3",
   "version": "3.10.9"
  },
  "orig_nbformat": 4
 },
 "nbformat": 4,
 "nbformat_minor": 2
}

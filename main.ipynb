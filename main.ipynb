{
 "cells": [
  {
   "cell_type": "code",
   "execution_count": null,
   "metadata": {},
   "outputs": [],
   "source": [
    "from river.datasets import Insects\n",
    "from river.datasets import synth\n",
    "from clustream import CluStream\n",
    "from river import drift\n",
    "import math\n",
    "import numpy as np\n",
    "from river.utils import dict2numpy\n",
    "from scipy.spatial import distance_matrix\n",
    "from time import time"
   ]
  },
  {
   "cell_type": "code",
   "execution_count": null,
   "metadata": {},
   "outputs": [],
   "source": [
    "dataset = Insects('abrupt_balanced')\n"
   ]
  },
  {
   "cell_type": "code",
   "execution_count": null,
   "metadata": {},
   "outputs": [],
   "source": [
    "learner = CluStream(n_macro_clusters=6,max_micro_clusters=60,time_window=300)\n",
    "test = drift.PageHinkley(30,delta=0.05,threshold=30,alpha= 0.9999,mode='both')\n",
    "\n"
   ]
  },
  {
   "cell_type": "code",
   "execution_count": null,
   "metadata": {},
   "outputs": [],
   "source": [
    "#Deprecated\n",
    "def _get_mean_dist(learner):\n",
    "    ## Calcule la moyenne des max distances entres les micro clusters\n",
    "    start = time()\n",
    "    mc_centers = dict2numpy(learner.get_micro_clusters())\n",
    "    nb_centers = len(mc_centers)\n",
    "    dist_matrix = np.zeros(shape=(nb_centers,nb_centers))\n",
    "    \n",
    "    for i in range(nb_centers):\n",
    "        for j in range(nb_centers):\n",
    "            dist_matrix[i][j] = learner._distance(mc_centers[i],mc_centers[j])\n",
    "\n",
    "    max_dist = np.max(dist_matrix,axis=1)\n",
    "    max_tmax = np.max(max_dist)\n",
    "    end = time() - start\n",
    "    print(end)\n",
    "    return np.mean(max_dist), max_tmax\n"
   ]
  },
  {
   "cell_type": "code",
   "execution_count": null,
   "metadata": {},
   "outputs": [],
   "source": [
    "def get_mean_dist(learner):\n",
    "    ## Calcule la moyenne des max distances entres les centres des micro clusters\n",
    "    mc_centers = [dict2numpy(x) for x in dict2numpy(learner.get_micro_clusters())]\n",
    "    max_dist = np.max(distance_matrix(mc_centers,mc_centers,2),axis=1)\n",
    "    return np.mean(max_dist)"
   ]
  },
  {
   "cell_type": "code",
   "execution_count": null,
   "metadata": {},
   "outputs": [],
   "source": [
    "loop = 0\n",
    "last_dist = 0\n",
    "dist = 0\n",
    "for x,y in dataset:\n",
    "    if loop <= 200 :\n",
    "        learner.learn_one(x)\n",
    "        \n",
    "    else :\n",
    "        if loop == 201 :\n",
    "            print(\"Done training\")\n",
    "            learner.offline_cluster()\n",
    "\n",
    "        if loop == 5000:\n",
    "            break\n",
    "        \n",
    "        learner.learn_one(x)\n",
    "        dist, max = get_mean_dist(learner)\n",
    "        print(f\"{dist} , {max}\")\n",
    "        test.update(dist)\n",
    "        \n",
    "        if test.drift_detected : \n",
    "            print(f\"Drift Detected at instance: {loop} , last dist : {last_dist}, dist : {dist}\")\n",
    "        \n",
    "            \n",
    "        \n",
    "    loop += 1\n",
    "    last_dist = dist\n",
    "\n",
    "    "
   ]
  },
  {
   "cell_type": "code",
   "execution_count": null,
   "metadata": {},
   "outputs": [],
   "source": []
  }
 ],
 "metadata": {
  "kernelspec": {
   "display_name": "base",
   "language": "python",
   "name": "python3"
  },
  "language_info": {
   "codemirror_mode": {
    "name": "ipython",
    "version": 3
   },
   "file_extension": ".py",
   "mimetype": "text/x-python",
   "name": "python",
   "nbconvert_exporter": "python",
   "pygments_lexer": "ipython3",
   "version": "3.9.16"
  },
  "orig_nbformat": 4
 },
 "nbformat": 4,
 "nbformat_minor": 2
}

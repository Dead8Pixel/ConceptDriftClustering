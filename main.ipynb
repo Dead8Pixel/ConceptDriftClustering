{
 "cells": [
  {
   "cell_type": "code",
   "execution_count": 2,
   "metadata": {},
   "outputs": [],
   "source": [
    "%matplotlib inline\n",
    "from river.datasets import synth\n",
    "from river import drift\n",
    "from clustream import CluStream\n",
    "from sklearn.metrics import silhouette_score\n",
    "import math\n",
    "import numpy as np\n",
    "import matplotlib.pyplot as plt\n",
    "from river.utils import dict2numpy\n",
    "from scipy.spatial import distance_matrix\n",
    "from time import time\n",
    "from river import stream\n",
    "import pandas as pd\n"
   ]
  },
  {
   "cell_type": "code",
   "execution_count": 3,
   "metadata": {},
   "outputs": [
    {
     "data": {
      "text/html": [
       "<div>\n",
       "<style scoped>\n",
       "    .dataframe tbody tr th:only-of-type {\n",
       "        vertical-align: middle;\n",
       "    }\n",
       "\n",
       "    .dataframe tbody tr th {\n",
       "        vertical-align: top;\n",
       "    }\n",
       "\n",
       "    .dataframe thead th {\n",
       "        text-align: right;\n",
       "    }\n",
       "</style>\n",
       "<table border=\"1\" class=\"dataframe\">\n",
       "  <thead>\n",
       "    <tr style=\"text-align: right;\">\n",
       "      <th></th>\n",
       "      <th>X1</th>\n",
       "      <th>X2</th>\n",
       "      <th>.class</th>\n",
       "    </tr>\n",
       "  </thead>\n",
       "  <tbody>\n",
       "    <tr>\n",
       "      <th>0</th>\n",
       "      <td>0.840033</td>\n",
       "      <td>0.579297</td>\n",
       "      <td>3</td>\n",
       "    </tr>\n",
       "    <tr>\n",
       "      <th>1</th>\n",
       "      <td>0.513139</td>\n",
       "      <td>0.534139</td>\n",
       "      <td>2</td>\n",
       "    </tr>\n",
       "    <tr>\n",
       "      <th>2</th>\n",
       "      <td>0.845255</td>\n",
       "      <td>0.654903</td>\n",
       "      <td>3</td>\n",
       "    </tr>\n",
       "    <tr>\n",
       "      <th>3</th>\n",
       "      <td>0.280315</td>\n",
       "      <td>0.542376</td>\n",
       "      <td>1</td>\n",
       "    </tr>\n",
       "    <tr>\n",
       "      <th>4</th>\n",
       "      <td>0.528570</td>\n",
       "      <td>0.576430</td>\n",
       "      <td>2</td>\n",
       "    </tr>\n",
       "  </tbody>\n",
       "</table>\n",
       "</div>"
      ],
      "text/plain": [
       "         X1        X2  .class\n",
       "0  0.840033  0.579297       3\n",
       "1  0.513139  0.534139       2\n",
       "2  0.845255  0.654903       3\n",
       "3  0.280315  0.542376       1\n",
       "4  0.528570  0.576430       2"
      ]
     },
     "execution_count": 3,
     "metadata": {},
     "output_type": "execute_result"
    }
   ],
   "source": [
    "ds = pd.read_csv('./datasets/RBF speed 20L/rbf_speed_20L.csv')\n",
    "ds.head()"
   ]
  },
  {
   "cell_type": "code",
   "execution_count": null,
   "metadata": {},
   "outputs": [],
   "source": [
    "learner = CluStream(n_macro_clusters=3,max_micro_clusters=20,time_window=250,micro_cluster_r_factor=0.09)\n",
    "#test = drift.PageHinkley(30,delta=0.01,threshold=0.05,alpha= 0.9999,mode='both')\n",
    "\n"
   ]
  },
  {
   "cell_type": "code",
   "execution_count": null,
   "metadata": {},
   "outputs": [],
   "source": [
    "loop = 0\n",
    "last_dist = 0\n",
    "dist = 0\n",
    "\n",
    "for x,y in stream.iter_pandas(ds,y):\n",
    "    if loop < 100 :\n",
    "        learner = learner.learn_one(x)\n",
    "        \n",
    "    else :\n",
    "\n",
    "        learner = learner.learn_one(x)\n",
    "\n",
    "        print(dist)\n",
    "        test.update(dist )\n",
    "        \n",
    "        if test.drift_detected : \n",
    "            #print(f\"Drift Detected at instance: {loop}\")\n",
    "            pass\n",
    "        \n",
    "        \n",
    "            \n",
    "        \n",
    "    loop += 1\n",
    "    last_dist = dist\n",
    "\n"
   ]
  },
  {
   "cell_type": "code",
   "execution_count": null,
   "metadata": {},
   "outputs": [],
   "source": []
  }
 ],
 "metadata": {
  "kernelspec": {
   "display_name": "base",
   "language": "python",
   "name": "python3"
  },
  "language_info": {
   "codemirror_mode": {
    "name": "ipython",
    "version": 3
   },
   "file_extension": ".py",
   "mimetype": "text/x-python",
   "name": "python",
   "nbconvert_exporter": "python",
   "pygments_lexer": "ipython3",
   "version": "3.10.9"
  },
  "orig_nbformat": 4
 },
 "nbformat": 4,
 "nbformat_minor": 2
}

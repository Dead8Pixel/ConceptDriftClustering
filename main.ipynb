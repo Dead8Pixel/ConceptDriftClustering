{
 "cells": [
  {
   "cell_type": "code",
   "execution_count": 2,
   "metadata": {},
   "outputs": [],
   "source": [
    "%matplotlib agg\n",
    "from river.datasets import synth\n",
    "from clustream import CluStream\n",
    "from river import drift\n",
    "import math\n",
    "import numpy as np\n",
    "import matplotlib.pyplot as plt\n",
    "from river.utils import dict2numpy\n",
    "from scipy.spatial import distance_matrix\n",
    "from time import time\n",
    "from river import stream\n",
    "import pandas as pd\n"
   ]
  },
  {
   "cell_type": "code",
   "execution_count": 3,
   "metadata": {},
   "outputs": [],
   "source": [
    "#dataset = synth.RandomRBF(seed_model=2,n_classes=2,n_features=2,n_centroids=50)\n",
    "ds = pd.read_csv('random.csv')\n",
    "ds.head()\n",
    "ds.dropna(axis=0,inplace=True)\n",
    "\n",
    "y = ds.pop('.class')"
   ]
  },
  {
   "cell_type": "code",
   "execution_count": 4,
   "metadata": {},
   "outputs": [],
   "source": [
    "\n",
    "fig, ax = plt.subplots(nrows=2,ncols=2,figsize = (10,10))\n",
    "\n"
   ]
  },
  {
   "cell_type": "code",
   "execution_count": 5,
   "metadata": {},
   "outputs": [],
   "source": [
    "lst1 = []\n",
    "lst2 = []\n",
    "lst3 = []\n",
    "i = 1\n",
    "k,m = 0,0\n",
    "tup = [(0,0),(0,1),(1,0),(1,1)]\n",
    "l = 0\n",
    "for x,y in stream.iter_pandas(ds,y):\n",
    "    if i % 500 == 0 and i <= 2000: \n",
    "        k,m = tup[l]\n",
    "        l += 1\n",
    "        lst1 = np.array(lst1)\n",
    "        lst2 = np.array(lst2) \n",
    "        lst3 = np.array(lst3) \n",
    "        ax[k,m].scatter(lst1[:,0],lst1[:,1])\n",
    "        ax[k,m].scatter(lst2[:,0],lst2[:,1])\n",
    "        ax[k,m].scatter(lst3[:,0],lst3[:,1])\n",
    "        lst1 = []\n",
    "        lst2 = []\n",
    "        lst3 = []\n",
    "\n",
    "\n",
    "    if y == 1.0 :\n",
    "        lst1.append([x['X1'],x['X2']])\n",
    "    elif y == 2.0 :\n",
    "        lst2.append([x['X1'],x['X2']])\n",
    "    else :\n",
    "        lst3.append([x['X1'],x['X2']])\n",
    "\n",
    "    i += 1 "
   ]
  },
  {
   "cell_type": "code",
   "execution_count": 6,
   "metadata": {},
   "outputs": [],
   "source": [
    "fig.savefig('concept_drift.jpg')"
   ]
  },
  {
   "cell_type": "code",
   "execution_count": null,
   "metadata": {},
   "outputs": [],
   "source": [
    "learner = CluStream(n_macro_clusters=6,max_micro_clusters=60,time_window=500)\n",
    "test = drift.PageHinkley(100,delta=0.05,threshold=30,alpha= 0.9999,mode='both')\n",
    "\n"
   ]
  },
  {
   "cell_type": "code",
   "execution_count": null,
   "metadata": {},
   "outputs": [],
   "source": [
    "def get_mean_dist(learner):\n",
    "    ## Calcule la moyenne des max distances entres les centres des micro clusters\n",
    "    mc_centers = [dict2numpy(x) for x in dict2numpy(learner.get_micro_clusters())]\n",
    "    max_dist = np.max(distance_matrix(mc_centers,mc_centers,2),axis=1)\n",
    "    return np.mean(max_dist)"
   ]
  },
  {
   "cell_type": "code",
   "execution_count": null,
   "metadata": {},
   "outputs": [],
   "source": [
    "loop = 0\n",
    "last_dist = 0\n",
    "dist = 0\n",
    "for x,y in dataset:\n",
    "    if loop < 1000 :\n",
    "        learner.learn_one(x)\n",
    "        \n",
    "    else :\n",
    "        if loop == 1000 :\n",
    "            print(\"Done training\")\n",
    "            learner.offline_cluster()\n",
    "\n",
    "        if loop == 10000:\n",
    "            break\n",
    "        \n",
    "        learner.learn_one(x)\n",
    "        dist = get_mean_dist(learner)\n",
    "        print(dist)\n",
    "        test.update(dist )\n",
    "        \n",
    "        if test.drift_detected : \n",
    "            print(f\"Drift Detected at instance: {loop}\")\n",
    "        \n",
    "            \n",
    "        \n",
    "    loop += 1\n",
    "    last_dist = dist\n",
    "\n"
   ]
  },
  {
   "cell_type": "code",
   "execution_count": null,
   "metadata": {},
   "outputs": [],
   "source": []
  }
 ],
 "metadata": {
  "kernelspec": {
   "display_name": "base",
   "language": "python",
   "name": "python3"
  },
  "language_info": {
   "codemirror_mode": {
    "name": "ipython",
    "version": 3
   },
   "file_extension": ".py",
   "mimetype": "text/x-python",
   "name": "python",
   "nbconvert_exporter": "python",
   "pygments_lexer": "ipython3",
   "version": "3.10.10"
  },
  "orig_nbformat": 4
 },
 "nbformat": 4,
 "nbformat_minor": 2
}

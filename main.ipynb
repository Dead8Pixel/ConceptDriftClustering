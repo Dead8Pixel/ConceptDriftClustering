{
 "cells": [
  {
   "cell_type": "code",
   "execution_count": null,
   "metadata": {},
   "outputs": [],
   "source": [
    "%matplotlib agg\n",
    "from river.datasets import synth\n",
    "from river import drift\n",
    "from clustream import CluStream\n",
    "from river import metrics\n",
    "import math\n",
    "import numpy as np\n",
    "import matplotlib.pyplot as plt\n",
    "from river.utils import dict2numpy\n",
    "from scipy.spatial import distance_matrix\n",
    "from time import time\n",
    "from river import stream\n",
    "import pandas as pd\n"
   ]
  },
  {
   "cell_type": "code",
   "execution_count": null,
   "metadata": {},
   "outputs": [],
   "source": [
    "ds = pd.read_csv('random.csv')\n",
    "ds.dropna(axis=0,inplace=True)\n",
    "y = ds.pop('.class')"
   ]
  },
  {
   "cell_type": "code",
   "execution_count": null,
   "metadata": {},
   "outputs": [],
   "source": [
    "learner = CluStream(n_macro_clusters=3,max_micro_clusters=20,time_window=100,micro_cluster_r_factor=0.09)\n",
    "silouhette = metrics.Silhouette()\n",
    "test = drift.PageHinkley(30,delta=0.01,threshold=0.05,alpha= 0.9999,mode='both')\n",
    "\n"
   ]
  },
  {
   "cell_type": "code",
   "execution_count": null,
   "metadata": {},
   "outputs": [],
   "source": [
    "def get_mean_dist(learner):\n",
    "    ## Calcule la moyenne des max distances entres les centres des micro clusters\n",
    "    mc_centers = [dict2numpy(x) for x in dict2numpy(learner.get_micro_clusters())]\n",
    "    max_dist = np.max(distance_matrix(mc_centers,mc_centers,2),axis=1)\n",
    "    return np.mean(max_dist)"
   ]
  },
  {
   "cell_type": "code",
   "execution_count": null,
   "metadata": {},
   "outputs": [],
   "source": [
    "loop = 0\n",
    "last_dist = 0\n",
    "dist = 0\n",
    "for x,y in stream.iter_pandas(ds,y):\n",
    "    if loop < 100 :\n",
    "        learner = learner.learn_one(x)\n",
    "        \n",
    "    else :\n",
    "\n",
    "        learner = learner.learn_one(x)\n",
    "        dist = get_mean_dist(learner)\n",
    "        #print(dist)\n",
    "        test.update(dist )\n",
    "        \n",
    "        if test.drift_detected : \n",
    "            #print(f\"Drift Detected at instance: {loop}\")\n",
    "            pass\n",
    "        if learner.centers :\n",
    "            print(learner.centers)\n",
    "        \n",
    "        \n",
    "            \n",
    "        \n",
    "    loop += 1\n",
    "    last_dist = dist\n",
    "\n"
   ]
  }
 ],
 "metadata": {
  "kernelspec": {
   "display_name": "base",
   "language": "python",
   "name": "python3"
  },
  "language_info": {
   "codemirror_mode": {
    "name": "ipython",
    "version": 3
   },
   "file_extension": ".py",
   "mimetype": "text/x-python",
   "name": "python",
   "nbconvert_exporter": "python",
   "pygments_lexer": "ipython3",
   "version": "3.10.9"
  },
  "orig_nbformat": 4
 },
 "nbformat": 4,
 "nbformat_minor": 2
}

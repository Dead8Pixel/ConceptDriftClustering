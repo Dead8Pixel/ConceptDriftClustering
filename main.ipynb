{
 "cells": [
  {
   "cell_type": "code",
   "execution_count": 1,
   "metadata": {
    "ExecuteTime": {
     "end_time": "2023-05-20T14:29:08.909268700Z",
     "start_time": "2023-05-20T14:29:07.333933300Z"
    }
   },
   "outputs": [],
   "source": [
    "%matplotlib inline\n",
    "from river.datasets import synth\n",
    "from river import drift\n",
    "from clustream import CluStream\n",
    "from sklearn.metrics import silhouette_score\n",
    "import math\n",
    "import numpy as np\n",
    "import matplotlib.pyplot as plt\n",
    "from river.utils import dict2numpy\n",
    "from scipy.spatial import distance_matrix\n",
    "from time import time\n",
    "from river import stream\n",
    "import pandas as pd\n"
   ]
  },
  {
   "cell_type": "code",
   "execution_count": 2,
   "metadata": {
    "ExecuteTime": {
     "end_time": "2023-05-20T14:29:14.602819600Z",
     "start_time": "2023-05-20T14:29:14.560438400Z"
    }
   },
   "outputs": [
    {
     "data": {
      "text/plain": "         X1        X2  .class\n0  0.840033  0.579297       3\n1  0.513139  0.534139       2\n2  0.845255  0.654903       3\n3  0.280315  0.542376       1\n4  0.528570  0.576430       2",
      "text/html": "<div>\n<style scoped>\n    .dataframe tbody tr th:only-of-type {\n        vertical-align: middle;\n    }\n\n    .dataframe tbody tr th {\n        vertical-align: top;\n    }\n\n    .dataframe thead th {\n        text-align: right;\n    }\n</style>\n<table border=\"1\" class=\"dataframe\">\n  <thead>\n    <tr style=\"text-align: right;\">\n      <th></th>\n      <th>X1</th>\n      <th>X2</th>\n      <th>.class</th>\n    </tr>\n  </thead>\n  <tbody>\n    <tr>\n      <th>0</th>\n      <td>0.840033</td>\n      <td>0.579297</td>\n      <td>3</td>\n    </tr>\n    <tr>\n      <th>1</th>\n      <td>0.513139</td>\n      <td>0.534139</td>\n      <td>2</td>\n    </tr>\n    <tr>\n      <th>2</th>\n      <td>0.845255</td>\n      <td>0.654903</td>\n      <td>3</td>\n    </tr>\n    <tr>\n      <th>3</th>\n      <td>0.280315</td>\n      <td>0.542376</td>\n      <td>1</td>\n    </tr>\n    <tr>\n      <th>4</th>\n      <td>0.528570</td>\n      <td>0.576430</td>\n      <td>2</td>\n    </tr>\n  </tbody>\n</table>\n</div>"
     },
     "execution_count": 2,
     "metadata": {},
     "output_type": "execute_result"
    }
   ],
   "source": [
    "ds = pd.read_csv('./datasets/RBF speed 20L/rbf_speed_20L.csv')\n",
    "ds.head()"
   ]
  },
  {
   "cell_type": "code",
   "execution_count": 3,
   "metadata": {
    "ExecuteTime": {
     "end_time": "2023-05-20T14:29:23.307876Z",
     "start_time": "2023-05-20T14:29:23.294832800Z"
    }
   },
   "outputs": [],
   "source": [
    "learner = CluStream(n_macro_clusters=3,max_micro_clusters=20,time_window=250,micro_cluster_r_factor=0.09)\n",
    "#test = drift.PageHinkley(30,delta=0.01,threshold=0.05,alpha= 0.9999,mode='both')\n",
    "\n"
   ]
  },
  {
   "cell_type": "code",
   "execution_count": 4,
   "metadata": {
    "ExecuteTime": {
     "end_time": "2023-05-20T14:29:27.882545900Z",
     "start_time": "2023-05-20T14:29:27.249374100Z"
    }
   },
   "outputs": [
    {
     "ename": "NameError",
     "evalue": "name 'y' is not defined",
     "output_type": "error",
     "traceback": [
      "\u001B[1;31m---------------------------------------------------------------------------\u001B[0m",
      "\u001B[1;31mNameError\u001B[0m                                 Traceback (most recent call last)",
      "Cell \u001B[1;32mIn[4], line 5\u001B[0m\n\u001B[0;32m      2\u001B[0m last_dist \u001B[38;5;241m=\u001B[39m \u001B[38;5;241m0\u001B[39m\n\u001B[0;32m      3\u001B[0m dist \u001B[38;5;241m=\u001B[39m \u001B[38;5;241m0\u001B[39m\n\u001B[1;32m----> 5\u001B[0m \u001B[38;5;28;01mfor\u001B[39;00m x,y \u001B[38;5;129;01min\u001B[39;00m stream\u001B[38;5;241m.\u001B[39miter_pandas(ds,\u001B[43my\u001B[49m):\n\u001B[0;32m      6\u001B[0m     \u001B[38;5;28;01mif\u001B[39;00m loop \u001B[38;5;241m<\u001B[39m \u001B[38;5;241m100\u001B[39m :\n\u001B[0;32m      7\u001B[0m         learner \u001B[38;5;241m=\u001B[39m learner\u001B[38;5;241m.\u001B[39mlearn_one(x)\n",
      "\u001B[1;31mNameError\u001B[0m: name 'y' is not defined"
     ]
    }
   ],
   "source": [
    "loop = 0\n",
    "last_dist = 0\n",
    "dist = 0\n",
    "\n",
    "for x,y in stream.iter_pandas(ds,y):\n",
    "    if loop < 100 :\n",
    "        learner = learner.learn_one(x)\n",
    "        \n",
    "    else :\n",
    "\n",
    "        learner = learner.learn_one(x)\n",
    "\n",
    "        print(dist)\n",
    "        test.update(dist )\n",
    "        \n",
    "        if test.drift_detected : \n",
    "            #print(f\"Drift Detected at instance: {loop}\")\n",
    "            pass\n",
    "        \n",
    "        \n",
    "            \n",
    "        \n",
    "    loop += 1\n",
    "    last_dist = dist\n",
    "\n"
   ]
  },
  {
   "cell_type": "code",
   "execution_count": null,
   "metadata": {},
   "outputs": [],
   "source": []
  }
 ],
 "metadata": {
  "kernelspec": {
   "display_name": "base",
   "language": "python",
   "name": "python3"
  },
  "language_info": {
   "codemirror_mode": {
    "name": "ipython",
    "version": 3
   },
   "file_extension": ".py",
   "mimetype": "text/x-python",
   "name": "python",
   "nbconvert_exporter": "python",
   "pygments_lexer": "ipython3",
   "version": "3.10.9"
  },
  "orig_nbformat": 4
 },
 "nbformat": 4,
 "nbformat_minor": 2
}
